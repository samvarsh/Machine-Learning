{
 "cells": [
  {
   "cell_type": "code",
   "execution_count": 3,
   "id": "9b8ee8f9-4113-4756-85c5-c1dcceaae2be",
   "metadata": {},
   "outputs": [],
   "source": [
    "import numpy as np\n",
    "import matplotlib.pyplot as plt\n",
    "\n",
    "plt.rcParams['figure.figsize'] = [8, 4]\n",
    "plt.rcParams['figure.dpi'] = 100 # this and above will make the figures large enough to read\n",
    "def loadamesdata(trainfrac = 0.5):\n",
    "    import pandas as pd\n",
    "    from IPython.display import display\n",
    "    \n",
    "    dataframe = pd.read_table('AmesHousing.txt',delimiter='\\t')\n",
    "\n",
    "    dataframe = dataframe[dataframe['Gr Liv Area']<4000] # remove the five really large houses\n",
    "    dataframe = dataframe[dataframe['Sale Condition']=='Normal'] # don't consider partial sales or other types of abnormal sales\n",
    "    dataframe = dataframe.drop(columns=['Order','PID','Sale Condition'])\n",
    "    \n",
    "    categoricalf = [col for col in dataframe if dataframe[col].dtype.name=='object' or col=='MS SubClass']\n",
    "     # Here we are encoding the categorical variables using a \"one-hot\" encoding.  A variable with 3 values (A, B, C)\n",
    "    # gets converted into three binary variables.  For any example (row) exactly one of these binary variables is 1\n",
    "    # indicating which value the original categorical variable took on.\n",
    "    dataframe = pd.get_dummies(dataframe,columns=categoricalf,prefix=categoricalf,dummy_na=True)\n",
    "    # Here we are going to remove any item that is missing a value (encoded as NaN at this stage)\n",
    "    # This is slightly problematic (it could be the missingness is actually related to the value or other features' values)\n",
    "    # Filling it in (with say the average for that feature) is also problematic, in different ways\n",
    "    # So for this problem set, we'll just remove listings (rows) that are missing any of their non-categorical features\n",
    "    dataframe.dropna(inplace=True) # \n",
    "    \n",
    "    dataframe = dataframe.loc[:,(dataframe!=dataframe.iloc[0]).any()] # drop features that have all the same value (across both training and testing)\n",
    "    \n",
    "    dataframe['SalePrice'] = dataframe['SalePrice']/1000 # convert to thousands of dollars, to prevent lots of extra 0s from needing to be printed\n",
    "    dataframe = dataframe[[c for c in dataframe if c != 'SalePrice']+['SalePrice']]# rearrange to put SalePrice at the end:\n",
    "    # training/testing split\n",
    "    # can use \"from sklearn.model_selection import train_test_split\"\n",
    "    # but to more directly show what is going on, here is a more \"raw\" version:\n",
    "    allXY = dataframe.to_numpy()\n",
    "    \n",
    "\n",
    "    allXY = allXY[np.isfinite(allXY).all(axis=1),:]\n",
    "    \n",
    "    # in general, we would take a random shuffle.  However, to grade this consistently, I am going to fix the randomness of the shuffle\n",
    "    np.random.seed(829281934) # my favorite number (well, out of the natural numbers) ;)\n",
    "    np.random.shuffle(allXY) # randomly shuffles the *rows* of the input (or along whatever is the first dimension of the tensor)\n",
    "    # we'll pick the first 50% (as default -- see \"trainfrac\" parameter as training and save the last 50% for testing\n",
    "    lasttraini = int(allXY.shape[0]*trainfrac)\n",
    "    trainXY = allXY[:lasttraini,:]\n",
    "    testXY = allXY[lasttraini:,:]\n",
    "    \n",
    "    trainX = trainXY[:,:-1]\n",
    "    trainY = trainXY[:,-1]\n",
    "    testX = testXY[:,:-1]\n",
    "    testY = testXY[:,-1]\n",
    "\n",
    "    return trainX,trainY,testX,testY, dataframe.columns\n",
    "\n",
    "trainX,trainY,testX,testY,featurenames = loadamesdata()\n",
    "nfeat = trainX.shape[1]\n",
    "binaryclassthreshold = 200\n",
    "bintrainY = (trainY>binaryclassthreshold).astype(int)\n",
    "bintestY = (testY>binaryclassthreshold).astype(int)"
   ]
  },
  {
   "cell_type": "code",
   "execution_count": 4,
   "id": "10b62eb3-59b7-417d-921f-331e4f92ed0f",
   "metadata": {},
   "outputs": [],
   "source": [
    "stddevs = np.std(trainX,axis=0)+1e-6\n",
    "trainX /= stddevs\n",
    "testX /= stddevs"
   ]
  },
  {
   "cell_type": "code",
   "execution_count": 5,
   "id": "aa75bd92-52d4-41fe-b44a-c05799053c1a",
   "metadata": {},
   "outputs": [],
   "source": [
    "def lr(X,Y,lam=0.0):\n",
    "    from sklearn.linear_model import LogisticRegression\n",
    "    C = 0.5/max(lam,1e-10)\n",
    "    lr = LogisticRegression('l2',C=C,solver='liblinear').fit(X,Y)\n",
    "    w = lr.coef_\n",
    "    b = lr.intercept_\n",
    "    return w,b # f(x) = x'*w + b"
   ]
  },
  {
   "cell_type": "code",
   "execution_count": 6,
   "id": "0b9337da-f38b-4d13-990d-c27b2d807728",
   "metadata": {},
   "outputs": [],
   "source": [
    "m = 923\n",
    "mean_vectors = []\n",
    "for cl in range(0,2):\n",
    "    mean_vectors.append(np.mean(trainX[bintrainY==cl], axis=0))    \n",
    "\n",
    "unique, counts = np.unique(bintrainY, return_counts=True)\n",
    "pi0 = counts[0]/m\n",
    "pi1 = counts[1]/m"
   ]
  },
  {
   "cell_type": "code",
   "execution_count": 7,
   "id": "e6eabdd6-cb63-4a5e-870f-7441b73e6375",
   "metadata": {},
   "outputs": [],
   "source": [
    "# finding sigma w b for computing X.T*W+b\n",
    "def lda(trainX,bintrainY,lam):\n",
    "    sum=0\n",
    "    #finding cov matirx\n",
    "    for i in range(1, m):\n",
    "        a = np.subtract(trainX[i], mean_vectors[bintrainY[i]])\n",
    "        a = np.array(a)[np.newaxis]\n",
    "        b = a.T\n",
    "        sum += b@a\n",
    "    lamI = np.dot(lam,np.identity(nfeat))\n",
    "    mul = 1/(m+lam)\n",
    "    cov = (np.dot(mul,lamI+sum))\n",
    "    covinv = np.linalg.inv(cov)\n",
    "    #computing weight\n",
    "    beta0 = mean_vectors[0][np.newaxis]@covinv\n",
    "    beta1 = mean_vectors[1][np.newaxis]@covinv\n",
    "    weights = np.subtract(beta1, beta0)\n",
    "    #computing b\n",
    "    gama0 = np.log(pi0)-(0.5 * (np.matmul(mean_vectors[0][np.newaxis], np.matmul(covinv,mean_vectors[0][np.newaxis].T))))\n",
    "    gama1 = np.log(pi1)-(0.5 * (np.matmul(mean_vectors[1][np.newaxis], np.matmul(covinv,mean_vectors[1][np.newaxis].T))))\n",
    "    b = gama1-gama0\n",
    "    return weights, b"
   ]
  },
  {
   "cell_type": "code",
   "execution_count": 8,
   "id": "53773b55-c9d7-4da6-8523-859bcb33a420",
   "metadata": {},
   "outputs": [],
   "source": [
    "def model_estimation(X, Y, technique):\n",
    "    err_rate = []\n",
    "    for l in np.linspace(0.001, 10000, 30):\n",
    "        if technique == \"lda\":\n",
    "            w,b = lda(X, Y, l)\n",
    "        else:\n",
    "            w,b = lr(X, Y, l)\n",
    "        fx = X@w.T + b\n",
    "        sig = 1 / (1+np.exp(-fx))\n",
    "        sig = np.where(sig>=0.5,1,sig)\n",
    "        sig = np.where(sig<0.5,0, sig)\n",
    "        a = 1 - (Y == sig.T).sum() / Y.shape[0]\n",
    "        err_rate.append(a)\n",
    "    err_rate = np.array(err_rate)\n",
    "    return err_rate"
   ]
  },
  {
   "cell_type": "code",
   "execution_count": 9,
   "id": "abb30f2e-c039-40aa-9604-f27035a56e9d",
   "metadata": {},
   "outputs": [],
   "source": [
    "def getWeights(X, Y, lam):\n",
    "    lam = lam + 1\n",
    "    xtrans = X.T\n",
    "    xtransx = xtrans@X\n",
    "    lidentity = np.identity(xtransx.shape[0])*lam\n",
    "    invterm = np.linalg.inv(np.add(lidentity,xtransx))\n",
    "    xtransy = xtrans@Y\n",
    "    weights = invterm@xtransy\n",
    "    return weights"
   ]
  },
  {
   "cell_type": "code",
   "execution_count": 10,
   "id": "8afaae2d-ce40-48fa-8868-3603b631bb7e",
   "metadata": {},
   "outputs": [],
   "source": [
    "# Ridge\n",
    "def ridge(X, Y):\n",
    "    err_rate_ridge = []\n",
    "    for l in np.linspace(0.001, 10000, 30):\n",
    "        count1 =0\n",
    "        count2 =0\n",
    "        ridgeW = getWeights(X, Y, l)\n",
    "        fx = np.dot(X, ridgeW)\n",
    "        for i in range(0, m):\n",
    "            if fx[i] > 200 and Y[i]>200:\n",
    "                count1+=1\n",
    "            elif fx[i] < 200 and Y[i]<200:\n",
    "                count2+=1\n",
    "        err_rate_ridge.append((m-count1-count2)/m)\n",
    "    return err_rate_ridge"
   ]
  },
  {
   "cell_type": "code",
   "execution_count": 11,
   "id": "88930976-60a0-4b0e-891a-d0474e3e5034",
   "metadata": {},
   "outputs": [],
   "source": [
    "err_rate_lda_train = model_estimation(trainX, bintrainY, \"lda\")\n",
    "err_rate_lda_test = model_estimation(testX, bintestY, \"lda\")\n",
    "\n",
    "err_rate_lr_train = model_estimation(trainX, bintrainY, \"lr\")\n",
    "err_rate_lr_test = model_estimation(testX, bintestY, \"lr\")\n",
    "\n",
    "err_rate_ridge_train = ridge(trainX, trainY)\n",
    "err_rate_ridge_test = ridge(testX, testY)"
   ]
  },
  {
   "cell_type": "code",
   "execution_count": 12,
   "id": "d2ffaa2b-a602-4aa2-bb5f-e08ea1a9b900",
   "metadata": {},
   "outputs": [
    {
     "data": {
      "text/plain": [
       "<matplotlib.legend.Legend at 0x7f086211b7c0>"
      ]
     },
     "execution_count": 12,
     "metadata": {},
     "output_type": "execute_result"
    },
    {
     "data": {
      "image/png": "[encoded data removed]",
      "text/plain": [
       "<Figure size 800x400 with 2 Axes>"
      ]
     },
     "metadata": {
      "needs_background": "light"
     },
     "output_type": "display_data"
    },
    {
     "data": {
      "text/plain": [
       "<Figure size 800x400 with 0 Axes>"
      ]
     },
     "metadata": {},
     "output_type": "display_data"
    }
   ],
   "source": [
    "lam_range = np.linspace(0.01, 10000, 30)\n",
    "\n",
    "fig,axs = plt.subplots(1,2)\n",
    "plt.figure()\n",
    "axs[0].set_title('Err Rate vs Regularization Strength - Training') \n",
    "axs[0].set_xlabel('Lambda') \n",
    "axs[0].set_ylabel('Err Rate') \n",
    "axs[1].set_title('Err Rate vs Regularization Strength - Testing') \n",
    "axs[1].set_xlabel('Lambda')\n",
    "axs[1].set_ylabel('Err Rate') \n",
    "axs[0].semilogx(lam_range, err_rate_lda_train, label='lda')\n",
    "axs[1].semilogx(lam_range, err_rate_lda_test, label='lda')\n",
    "axs[0].semilogx(lam_range, err_rate_lr_train, label='lr')\n",
    "axs[1].semilogx(lam_range, err_rate_lr_test, label='lr')\n",
    "axs[0].semilogx(lam_range, err_rate_ridge_train, label='ridge')\n",
    "axs[1].semilogx(lam_range, err_rate_ridge_test, label='ridge')\n",
    "axs[0].legend(loc='best')\n",
    "axs[1].legend(loc='best')"
   ]
  },
  {
   "cell_type": "code",
   "execution_count": null,
   "id": "1897a241-1395-475a-89e8-5004c62edd39",
   "metadata": {},
   "outputs": [],
   "source": []
  }
 ],
 "metadata": {
  "kernelspec": {
   "display_name": "Python 3 (ipykernel)",
   "language": "python",
   "name": "python3"
  },
  "language_info": {
   "codemirror_mode": {
    "name": "ipython",
    "version": 3
   },
   "file_extension": ".py",
   "mimetype": "text/x-python",
   "name": "python",
   "nbconvert_exporter": "python",
   "pygments_lexer": "ipython3",
   "version": "3.8.11"
  }
 },
 "nbformat": 4,
 "nbformat_minor": 5
}
